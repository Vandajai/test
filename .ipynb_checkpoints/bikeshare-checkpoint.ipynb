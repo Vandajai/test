{
 "cells": [
  {
   "cell_type": "code",
   "execution_count": 1,
   "id": "c79259d1",
   "metadata": {},
   "outputs": [],
   "source": [
    "import time\n",
    "import pandas as pd\n",
    "import numpy as np"
   ]
  },
  {
   "cell_type": "code",
   "execution_count": 2,
   "id": "64b3a6e0",
   "metadata": {},
   "outputs": [],
   "source": [
    "CITY_DATA = { 'Chicago': 'chicago.csv',\n",
    "              'new York City': 'new_york_city.csv',\n",
    "              'Washington': 'washington.csv' }\n",
    "\n",
    "def get_filters():\n",
    "    \"\"\"\n",
    "    Asks user to specify a city, month, and day to analyze.\n",
    "\n",
    "    Returns:\n",
    "        (str) city - name of the city to analyze\n",
    "        (str) month - name of the month to filter by, or \"all\" to apply no month filter\n",
    "        (str) day - name of the day of week to filter by, or \"all\" to apply no day filter\n",
    "    \"\"\"\n",
    "    print('Hello! Let\\'s explore some US bikeshare data!')\n",
    "    "
   ]
  },
  {
   "cell_type": "code",
   "execution_count": 3,
   "id": "d3df43ab",
   "metadata": {},
   "outputs": [
    {
     "name": "stdout",
     "output_type": "stream",
     "text": [
      "\n",
      "Which City you want to choose? Chicago/New York City/Washingtone\n",
      ":Chicago\n"
     ]
    }
   ],
   "source": [
    "# TO DO: get user input for city (chicago, new york city, washington). HINT: Use a while loop to handle invalid inputs\n",
    "\n",
    "while True:\n",
    "    city=input(\"\\nWhich City you want to choose? Chicago/New York City/Washingtone\\n:\")\n",
    "    if city not in ('Chicago','new York City','Washington'):\n",
    "        print(\"Invalid input.Pls try again\")\n",
    "        continue\n",
    "    else:\n",
    "        break"
   ]
  },
  {
   "cell_type": "code",
   "execution_count": 4,
   "id": "0562a85a",
   "metadata": {},
   "outputs": [
    {
     "name": "stdout",
     "output_type": "stream",
     "text": [
      "\n",
      "Which month you want to choose? January/February/March/April/May/June or type 'all' if no preference\n",
      "January\n"
     ]
    }
   ],
   "source": [
    " #TO DO: get user input for month (all, january, february, ... , june)\n",
    "    \n",
    "while True:\n",
    "    month= input(\"\\nWhich month you want to choose? January/February/March/April/May/June or type 'all' if no preference\\n\")\n",
    "    if month not in ('January','February','March','April','May','May','June','all'):\n",
    "        print(\"Invalid input.Pls try again\")\n",
    "        continue\n",
    "    else:\n",
    "        break\n",
    "    "
   ]
  },
  {
   "cell_type": "code",
   "execution_count": 5,
   "id": "fb810c3d",
   "metadata": {},
   "outputs": [
    {
     "name": "stdout",
     "output_type": "stream",
     "text": [
      "\n",
      "Which day you want to choose? Monday/Tuesday/Wednesday/Thursday/Friday/Saturday/Sunday or 'all' if no preference\n",
      "Monday\n"
     ]
    }
   ],
   "source": [
    "#TO DO: get user input for day of week (all, monday, tuesday, ... sunday)\n",
    "\n",
    "while True:\n",
    "    Day=input(\"\\nWhich day you want to choose? Monday/Tuesday/Wednesday/Thursday/Friday/Saturday/Sunday or 'all' if no preference\\n\")\n",
    "    if Day not in ('Monday','Tuesday','Wednesday','Thursday','Friday','Saturday','Sunday','all'):\n",
    "        print(\"Invalid input. Pls try again\")\n",
    "        continue\n",
    "    else:\n",
    "        break    "
   ]
  },
  {
   "cell_type": "code",
   "execution_count": 6,
   "id": "b41a4dc1",
   "metadata": {},
   "outputs": [
    {
     "name": "stdout",
     "output_type": "stream",
     "text": [
      "----------------------------------------\n",
      "Chicago January Monday\n"
     ]
    }
   ],
   "source": [
    "print('-'*40)\n",
    "print(city, month, Day)"
   ]
  },
  {
   "cell_type": "code",
   "execution_count": 7,
   "id": "5e8589f6",
   "metadata": {},
   "outputs": [],
   "source": [
    "def load_data(city, month, day):\n",
    "    \"\"\"\n",
    "    Loads data for the specified city and filters by month and day if applicable.\n",
    "\n",
    "    Args:\n",
    "        (str) city - name of the city to analyze\n",
    "        (str) month - name of the month to filter by, or \"all\" to apply no month filter\n",
    "        (str) day - name of the day of week to filter by, or \"all\" to apply no day filter\n",
    "    Returns:\n",
    "        df - Pandas DataFrame containing city data filtered by month and day\n",
    "    \"\"\""
   ]
  },
  {
   "cell_type": "code",
   "execution_count": 8,
   "id": "a7191893",
   "metadata": {},
   "outputs": [
    {
     "data": {
      "text/html": [
       "<div>\n",
       "<style scoped>\n",
       "    .dataframe tbody tr th:only-of-type {\n",
       "        vertical-align: middle;\n",
       "    }\n",
       "\n",
       "    .dataframe tbody tr th {\n",
       "        vertical-align: top;\n",
       "    }\n",
       "\n",
       "    .dataframe thead th {\n",
       "        text-align: right;\n",
       "    }\n",
       "</style>\n",
       "<table border=\"1\" class=\"dataframe\">\n",
       "  <thead>\n",
       "    <tr style=\"text-align: right;\">\n",
       "      <th></th>\n",
       "      <th>Unnamed: 0</th>\n",
       "      <th>Start Time</th>\n",
       "      <th>End Time</th>\n",
       "      <th>Trip Duration</th>\n",
       "      <th>Start Station</th>\n",
       "      <th>End Station</th>\n",
       "      <th>User Type</th>\n",
       "      <th>Gender</th>\n",
       "      <th>Birth Year</th>\n",
       "    </tr>\n",
       "  </thead>\n",
       "  <tbody>\n",
       "    <tr>\n",
       "      <th>0</th>\n",
       "      <td>1423854</td>\n",
       "      <td>2017-06-23 15:09:32</td>\n",
       "      <td>2017-06-23 15:14:53</td>\n",
       "      <td>321</td>\n",
       "      <td>Wood St &amp; Hubbard St</td>\n",
       "      <td>Damen Ave &amp; Chicago Ave</td>\n",
       "      <td>Subscriber</td>\n",
       "      <td>Male</td>\n",
       "      <td>1992.0</td>\n",
       "    </tr>\n",
       "    <tr>\n",
       "      <th>1</th>\n",
       "      <td>955915</td>\n",
       "      <td>2017-05-25 18:19:03</td>\n",
       "      <td>2017-05-25 18:45:53</td>\n",
       "      <td>1610</td>\n",
       "      <td>Theater on the Lake</td>\n",
       "      <td>Sheffield Ave &amp; Waveland Ave</td>\n",
       "      <td>Subscriber</td>\n",
       "      <td>Female</td>\n",
       "      <td>1992.0</td>\n",
       "    </tr>\n",
       "    <tr>\n",
       "      <th>2</th>\n",
       "      <td>9031</td>\n",
       "      <td>2017-01-04 08:27:49</td>\n",
       "      <td>2017-01-04 08:34:45</td>\n",
       "      <td>416</td>\n",
       "      <td>May St &amp; Taylor St</td>\n",
       "      <td>Wood St &amp; Taylor St</td>\n",
       "      <td>Subscriber</td>\n",
       "      <td>Male</td>\n",
       "      <td>1981.0</td>\n",
       "    </tr>\n",
       "    <tr>\n",
       "      <th>3</th>\n",
       "      <td>304487</td>\n",
       "      <td>2017-03-06 13:49:38</td>\n",
       "      <td>2017-03-06 13:55:28</td>\n",
       "      <td>350</td>\n",
       "      <td>Christiana Ave &amp; Lawrence Ave</td>\n",
       "      <td>St. Louis Ave &amp; Balmoral Ave</td>\n",
       "      <td>Subscriber</td>\n",
       "      <td>Male</td>\n",
       "      <td>1986.0</td>\n",
       "    </tr>\n",
       "    <tr>\n",
       "      <th>4</th>\n",
       "      <td>45207</td>\n",
       "      <td>2017-01-17 14:53:07</td>\n",
       "      <td>2017-01-17 15:02:01</td>\n",
       "      <td>534</td>\n",
       "      <td>Clark St &amp; Randolph St</td>\n",
       "      <td>Desplaines St &amp; Jackson Blvd</td>\n",
       "      <td>Subscriber</td>\n",
       "      <td>Male</td>\n",
       "      <td>1975.0</td>\n",
       "    </tr>\n",
       "    <tr>\n",
       "      <th>...</th>\n",
       "      <td>...</td>\n",
       "      <td>...</td>\n",
       "      <td>...</td>\n",
       "      <td>...</td>\n",
       "      <td>...</td>\n",
       "      <td>...</td>\n",
       "      <td>...</td>\n",
       "      <td>...</td>\n",
       "      <td>...</td>\n",
       "    </tr>\n",
       "    <tr>\n",
       "      <th>299995</th>\n",
       "      <td>64825</td>\n",
       "      <td>2017-01-21 13:18:00</td>\n",
       "      <td>2017-01-21 13:27:50</td>\n",
       "      <td>590</td>\n",
       "      <td>Orleans St &amp; Elm St (*)</td>\n",
       "      <td>Sheffield Ave &amp; Webster Ave</td>\n",
       "      <td>Subscriber</td>\n",
       "      <td>Male</td>\n",
       "      <td>1965.0</td>\n",
       "    </tr>\n",
       "    <tr>\n",
       "      <th>299996</th>\n",
       "      <td>695993</td>\n",
       "      <td>2017-04-28 19:32:19</td>\n",
       "      <td>2017-04-28 19:51:18</td>\n",
       "      <td>1139</td>\n",
       "      <td>Ashland Ave &amp; Blackhawk St</td>\n",
       "      <td>Clark St &amp; Elm St</td>\n",
       "      <td>Customer</td>\n",
       "      <td>NaN</td>\n",
       "      <td>NaN</td>\n",
       "    </tr>\n",
       "    <tr>\n",
       "      <th>299997</th>\n",
       "      <td>159685</td>\n",
       "      <td>2017-02-12 09:59:01</td>\n",
       "      <td>2017-02-12 10:21:49</td>\n",
       "      <td>1368</td>\n",
       "      <td>Ravenswood Ave &amp; Lawrence Ave</td>\n",
       "      <td>Stockton Dr &amp; Wrightwood Ave</td>\n",
       "      <td>Subscriber</td>\n",
       "      <td>Female</td>\n",
       "      <td>1988.0</td>\n",
       "    </tr>\n",
       "    <tr>\n",
       "      <th>299998</th>\n",
       "      <td>564681</td>\n",
       "      <td>2017-04-16 17:07:15</td>\n",
       "      <td>2017-04-16 17:19:00</td>\n",
       "      <td>705</td>\n",
       "      <td>Sheffield Ave &amp; Willow St</td>\n",
       "      <td>Clark St &amp; Chicago Ave</td>\n",
       "      <td>Customer</td>\n",
       "      <td>NaN</td>\n",
       "      <td>NaN</td>\n",
       "    </tr>\n",
       "    <tr>\n",
       "      <th>299999</th>\n",
       "      <td>1021247</td>\n",
       "      <td>2017-05-30 12:38:28</td>\n",
       "      <td>2017-05-30 12:55:36</td>\n",
       "      <td>1028</td>\n",
       "      <td>Wacker Dr &amp; Washington St</td>\n",
       "      <td>Damen Ave &amp; Division St</td>\n",
       "      <td>Subscriber</td>\n",
       "      <td>Male</td>\n",
       "      <td>1984.0</td>\n",
       "    </tr>\n",
       "  </tbody>\n",
       "</table>\n",
       "<p>300000 rows × 9 columns</p>\n",
       "</div>"
      ],
      "text/plain": [
       "        Unnamed: 0           Start Time             End Time  Trip Duration  \\\n",
       "0          1423854  2017-06-23 15:09:32  2017-06-23 15:14:53            321   \n",
       "1           955915  2017-05-25 18:19:03  2017-05-25 18:45:53           1610   \n",
       "2             9031  2017-01-04 08:27:49  2017-01-04 08:34:45            416   \n",
       "3           304487  2017-03-06 13:49:38  2017-03-06 13:55:28            350   \n",
       "4            45207  2017-01-17 14:53:07  2017-01-17 15:02:01            534   \n",
       "...            ...                  ...                  ...            ...   \n",
       "299995       64825  2017-01-21 13:18:00  2017-01-21 13:27:50            590   \n",
       "299996      695993  2017-04-28 19:32:19  2017-04-28 19:51:18           1139   \n",
       "299997      159685  2017-02-12 09:59:01  2017-02-12 10:21:49           1368   \n",
       "299998      564681  2017-04-16 17:07:15  2017-04-16 17:19:00            705   \n",
       "299999     1021247  2017-05-30 12:38:28  2017-05-30 12:55:36           1028   \n",
       "\n",
       "                        Start Station                   End Station  \\\n",
       "0                Wood St & Hubbard St       Damen Ave & Chicago Ave   \n",
       "1                 Theater on the Lake  Sheffield Ave & Waveland Ave   \n",
       "2                  May St & Taylor St           Wood St & Taylor St   \n",
       "3       Christiana Ave & Lawrence Ave  St. Louis Ave & Balmoral Ave   \n",
       "4              Clark St & Randolph St  Desplaines St & Jackson Blvd   \n",
       "...                               ...                           ...   \n",
       "299995        Orleans St & Elm St (*)   Sheffield Ave & Webster Ave   \n",
       "299996     Ashland Ave & Blackhawk St             Clark St & Elm St   \n",
       "299997  Ravenswood Ave & Lawrence Ave  Stockton Dr & Wrightwood Ave   \n",
       "299998      Sheffield Ave & Willow St        Clark St & Chicago Ave   \n",
       "299999      Wacker Dr & Washington St       Damen Ave & Division St   \n",
       "\n",
       "         User Type  Gender  Birth Year  \n",
       "0       Subscriber    Male      1992.0  \n",
       "1       Subscriber  Female      1992.0  \n",
       "2       Subscriber    Male      1981.0  \n",
       "3       Subscriber    Male      1986.0  \n",
       "4       Subscriber    Male      1975.0  \n",
       "...            ...     ...         ...  \n",
       "299995  Subscriber    Male      1965.0  \n",
       "299996    Customer     NaN         NaN  \n",
       "299997  Subscriber  Female      1988.0  \n",
       "299998    Customer     NaN         NaN  \n",
       "299999  Subscriber    Male      1984.0  \n",
       "\n",
       "[300000 rows x 9 columns]"
      ]
     },
     "execution_count": 8,
     "metadata": {},
     "output_type": "execute_result"
    }
   ],
   "source": [
    "\n",
    "#load data in to dataframe\n",
    "df = pd.read_csv(r'.\\ud_project\\{}'.format(CITY_DATA[city]))\n",
    "df"
   ]
  },
  {
   "cell_type": "code",
   "execution_count": 9,
   "id": "a35fd8c5",
   "metadata": {},
   "outputs": [],
   "source": [
    "# Change the start time & End Time format to date time format (yyyy-mm-dd)\n",
    "\n",
    "df['Start Time']= pd.to_datetime(df['Start Time'])\n",
    "df['End Time']=pd.to_datetime(df['End Time'])\n",
    "\n"
   ]
  },
  {
   "cell_type": "code",
   "execution_count": 10,
   "id": "d2cc1cde",
   "metadata": {},
   "outputs": [
    {
     "name": "stdout",
     "output_type": "stream",
     "text": [
      "        Unnamed: 0          Start Time            End Time  Trip Duration  \\\n",
      "0          1423854 2017-06-23 15:09:32 2017-06-23 15:14:53            321   \n",
      "1           955915 2017-05-25 18:19:03 2017-05-25 18:45:53           1610   \n",
      "2             9031 2017-01-04 08:27:49 2017-01-04 08:34:45            416   \n",
      "3           304487 2017-03-06 13:49:38 2017-03-06 13:55:28            350   \n",
      "4            45207 2017-01-17 14:53:07 2017-01-17 15:02:01            534   \n",
      "...            ...                 ...                 ...            ...   \n",
      "299995       64825 2017-01-21 13:18:00 2017-01-21 13:27:50            590   \n",
      "299996      695993 2017-04-28 19:32:19 2017-04-28 19:51:18           1139   \n",
      "299997      159685 2017-02-12 09:59:01 2017-02-12 10:21:49           1368   \n",
      "299998      564681 2017-04-16 17:07:15 2017-04-16 17:19:00            705   \n",
      "299999     1021247 2017-05-30 12:38:28 2017-05-30 12:55:36           1028   \n",
      "\n",
      "                        Start Station                   End Station  \\\n",
      "0                Wood St & Hubbard St       Damen Ave & Chicago Ave   \n",
      "1                 Theater on the Lake  Sheffield Ave & Waveland Ave   \n",
      "2                  May St & Taylor St           Wood St & Taylor St   \n",
      "3       Christiana Ave & Lawrence Ave  St. Louis Ave & Balmoral Ave   \n",
      "4              Clark St & Randolph St  Desplaines St & Jackson Blvd   \n",
      "...                               ...                           ...   \n",
      "299995        Orleans St & Elm St (*)   Sheffield Ave & Webster Ave   \n",
      "299996     Ashland Ave & Blackhawk St             Clark St & Elm St   \n",
      "299997  Ravenswood Ave & Lawrence Ave  Stockton Dr & Wrightwood Ave   \n",
      "299998      Sheffield Ave & Willow St        Clark St & Chicago Ave   \n",
      "299999      Wacker Dr & Washington St       Damen Ave & Division St   \n",
      "\n",
      "         User Type  Gender  Birth Year  month  day_of_week  \n",
      "0       Subscriber    Male      1992.0      6            4  \n",
      "1       Subscriber  Female      1992.0      5            3  \n",
      "2       Subscriber    Male      1981.0      1            2  \n",
      "3       Subscriber    Male      1986.0      3            0  \n",
      "4       Subscriber    Male      1975.0      1            1  \n",
      "...            ...     ...         ...    ...          ...  \n",
      "299995  Subscriber    Male      1965.0      1            5  \n",
      "299996    Customer     NaN         NaN      4            4  \n",
      "299997  Subscriber  Female      1988.0      2            6  \n",
      "299998    Customer     NaN         NaN      4            6  \n",
      "299999  Subscriber    Male      1984.0      5            1  \n",
      "\n",
      "[300000 rows x 11 columns]\n"
     ]
    }
   ],
   "source": [
    "# extract month and day of the week from start time and create new column\n",
    "\n",
    "df['month']=df['Start Time'].dt.month\n",
    "df['day_of_week'] = df['Start Time'].dt.weekday\n",
    "print(df)"
   ]
  },
  {
   "cell_type": "code",
   "execution_count": 11,
   "id": "3ab6c12a",
   "metadata": {},
   "outputs": [],
   "source": [
    "#Filter by month \n",
    "#Defined variables\n",
    "\n",
    "\"\"\"\n",
    "    df         - City Dataframe\n",
    "    time       - indicates the specified time (either \"month\", \"day_of_month\", or \"day_of_week\")\n",
    "    month      - indicates the month used to filter the data\n",
    "    week_day   - indicates the week day used to filter the data\n",
    "    md         - list that indicates the month (at index [0]) used to filter the data\n",
    "                    and the day number (at index [1])\n",
    "\"\"\"\n",
    "\n",
    "if time == 'month':\n",
    "        months = ['january', 'february', 'march', 'april', 'may', 'june']\n",
    "        month = months.index(month) + 1\n",
    "        df = df[df['month'] == month]"
   ]
  },
  {
   "cell_type": "code",
   "execution_count": 12,
   "id": "a5d0a40c",
   "metadata": {},
   "outputs": [
    {
     "name": "stdout",
     "output_type": "stream",
     "text": [
      "        Unnamed: 0          Start Time            End Time  Trip Duration  \\\n",
      "0          1423854 2017-06-23 15:09:32 2017-06-23 15:14:53            321   \n",
      "1           955915 2017-05-25 18:19:03 2017-05-25 18:45:53           1610   \n",
      "2             9031 2017-01-04 08:27:49 2017-01-04 08:34:45            416   \n",
      "3           304487 2017-03-06 13:49:38 2017-03-06 13:55:28            350   \n",
      "4            45207 2017-01-17 14:53:07 2017-01-17 15:02:01            534   \n",
      "...            ...                 ...                 ...            ...   \n",
      "299995       64825 2017-01-21 13:18:00 2017-01-21 13:27:50            590   \n",
      "299996      695993 2017-04-28 19:32:19 2017-04-28 19:51:18           1139   \n",
      "299997      159685 2017-02-12 09:59:01 2017-02-12 10:21:49           1368   \n",
      "299998      564681 2017-04-16 17:07:15 2017-04-16 17:19:00            705   \n",
      "299999     1021247 2017-05-30 12:38:28 2017-05-30 12:55:36           1028   \n",
      "\n",
      "                        Start Station                   End Station  \\\n",
      "0                Wood St & Hubbard St       Damen Ave & Chicago Ave   \n",
      "1                 Theater on the Lake  Sheffield Ave & Waveland Ave   \n",
      "2                  May St & Taylor St           Wood St & Taylor St   \n",
      "3       Christiana Ave & Lawrence Ave  St. Louis Ave & Balmoral Ave   \n",
      "4              Clark St & Randolph St  Desplaines St & Jackson Blvd   \n",
      "...                               ...                           ...   \n",
      "299995        Orleans St & Elm St (*)   Sheffield Ave & Webster Ave   \n",
      "299996     Ashland Ave & Blackhawk St             Clark St & Elm St   \n",
      "299997  Ravenswood Ave & Lawrence Ave  Stockton Dr & Wrightwood Ave   \n",
      "299998      Sheffield Ave & Willow St        Clark St & Chicago Ave   \n",
      "299999      Wacker Dr & Washington St       Damen Ave & Division St   \n",
      "\n",
      "         User Type  Gender  Birth Year  month  day_of_week  \n",
      "0       Subscriber    Male      1992.0      6            4  \n",
      "1       Subscriber  Female      1992.0      5            3  \n",
      "2       Subscriber    Male      1981.0      1            2  \n",
      "3       Subscriber    Male      1986.0      3            0  \n",
      "4       Subscriber    Male      1975.0      1            1  \n",
      "...            ...     ...         ...    ...          ...  \n",
      "299995  Subscriber    Male      1965.0      1            5  \n",
      "299996    Customer     NaN         NaN      4            4  \n",
      "299997  Subscriber  Female      1988.0      2            6  \n",
      "299998    Customer     NaN         NaN      4            6  \n",
      "299999  Subscriber    Male      1984.0      5            1  \n",
      "\n",
      "[300000 rows x 11 columns]\n"
     ]
    }
   ],
   "source": [
    "# Filter by day of week\n",
    "\n",
    "if time == 'day_of_week':\n",
    "        days = ['Monday', 'Tuesday', \n",
    "        'Wednesday', 'Thursday', \n",
    "        'Friday', 'Saturday', 'Sunday','all']\n",
    "        for d in days:\n",
    "            if week_day.capitalize() in d:\n",
    "                day_of_week = d\n",
    "        df = df[df['day_of_week'] == day_of_week]\n",
    "        \n",
    "if time == \"day_of_month\":\n",
    "        months = ['january', 'february', 'march', 'april', 'may', 'june','all']\n",
    "        month = md[0]\n",
    "        month = months.index(month) + 1\n",
    "        df = df[df['month']==month]\n",
    "        day = md[1]\n",
    "        df = df[df['day_of_month'] == day]\n",
    "print(df)\n",
    "    "
   ]
  },
  {
   "cell_type": "code",
   "execution_count": 13,
   "id": "63f54399",
   "metadata": {},
   "outputs": [
    {
     "name": "stdout",
     "output_type": "stream",
     "text": [
      "Most common month: 6\n"
     ]
    }
   ],
   "source": [
    "def time_stats(df):\n",
    "    \"\"\"Displays statistics on the most frequent times of travel.\"\"\"\n",
    "\n",
    "    print('\\nCalculating The Most Frequent Times of Travel...\\n')\n",
    "    start_time = time.time\n",
    "    \n",
    "    \n",
    "# TO DO: display the most common month\n",
    "\n",
    "popular_month=df['month'].mode()[0]\n",
    "print(\"Most common month:\", popular_month)\n",
    "\n"
   ]
  },
  {
   "cell_type": "code",
   "execution_count": 14,
   "id": "298dd533",
   "metadata": {},
   "outputs": [
    {
     "name": "stdout",
     "output_type": "stream",
     "text": [
      "Most Common day of week:  1\n"
     ]
    }
   ],
   "source": [
    "# TO DO: display the most common day of week\n",
    "\n",
    "popular_day= df['day_of_week'].mode()[0]\n",
    "print(\"Most Common day of week: \", popular_day)"
   ]
  },
  {
   "cell_type": "code",
   "execution_count": 15,
   "id": "a4bf7623",
   "metadata": {},
   "outputs": [
    {
     "name": "stdout",
     "output_type": "stream",
     "text": [
      "Most common hour: 17\n"
     ]
    }
   ],
   "source": [
    "# TO DO: display the most common start hour\n",
    "\n",
    "df['hour']= df['Start Time'].dt.hour\n",
    "popular_hour = df['hour'].mode()[0]\n",
    "print(\"Most common hour:\", popular_hour)\n"
   ]
  },
  {
   "cell_type": "code",
   "execution_count": 16,
   "id": "c07f2cc6",
   "metadata": {},
   "outputs": [
    {
     "name": "stdout",
     "output_type": "stream",
     "text": [
      "Most commonly used start station: Streeter Dr & Grand Ave\n"
     ]
    }
   ],
   "source": [
    "def station_stats(df):\n",
    "    \"\"\"Displays statistics on the most popular stations and trip.\"\"\"\n",
    "\n",
    "    print('\\nCalculating The Most Popular Stations and Trip...\\n')\n",
    "    start_time = time.time()\n",
    "    \n",
    "# TO DO: display most commonly used start station\n",
    "popular_start_station=df['Start Station'].value_counts().idxmax()\n",
    "print(\"Most commonly used start station:\",popular_start_station)\n"
   ]
  },
  {
   "cell_type": "code",
   "execution_count": 17,
   "id": "7908ee43",
   "metadata": {},
   "outputs": [
    {
     "name": "stdout",
     "output_type": "stream",
     "text": [
      "Most commonly used End station: <bound method Series.idxmax of Streeter Dr & Grand Ave         7512\n",
      "Clinton St & Washington Blvd    4166\n",
      "Lake Shore Dr & Monroe St       4016\n",
      "Clinton St & Madison St         4014\n",
      "Lake Shore Dr & North Blvd      3863\n",
      "                                ... \n",
      "Woodlawn Ave & 75th St             1\n",
      "Seeley Ave & Garfield Blvd         1\n",
      "Cicero Ave & Quincy St             1\n",
      "Perry Ave & 69th St                1\n",
      "Stony Island Ave & 82nd St         1\n",
      "Name: End Station, Length: 572, dtype: int64>\n"
     ]
    }
   ],
   "source": [
    " # TO DO: display most commonly used end station\n",
    "\n",
    "popular_end_station=df['End Station'].value_counts().idxmax\n",
    "print(\"Most commonly used End station:\", popular_end_station)\n",
    "    "
   ]
  },
  {
   "cell_type": "code",
   "execution_count": 18,
   "id": "a21a1229",
   "metadata": {},
   "outputs": [
    {
     "name": "stdout",
     "output_type": "stream",
     "text": [
      "combination of start and end station: Streeter Dr & Grand Ave  &  <bound method Series.idxmax of Streeter Dr & Grand Ave         7512\n",
      "Clinton St & Washington Blvd    4166\n",
      "Lake Shore Dr & Monroe St       4016\n",
      "Clinton St & Madison St         4014\n",
      "Lake Shore Dr & North Blvd      3863\n",
      "                                ... \n",
      "Woodlawn Ave & 75th St             1\n",
      "Seeley Ave & Garfield Blvd         1\n",
      "Cicero Ave & Quincy St             1\n",
      "Perry Ave & 69th St                1\n",
      "Stony Island Ave & 82nd St         1\n",
      "Name: End Station, Length: 572, dtype: int64>\n"
     ]
    }
   ],
   "source": [
    " # TO DO: display most frequent combination of start station and end station trip\n",
    "    \n",
    "combination_Station= df.groupby(['Start Station','End Station']).count()\n",
    "print(\"combination of start and end station:\", popular_start_station,\" & \",popular_end_station)"
   ]
  },
  {
   "cell_type": "code",
   "execution_count": 19,
   "id": "0c2dad94",
   "metadata": {},
   "outputs": [],
   "source": [
    "def trip_duration_stats(df):\n",
    "    \"\"\"Displays statistics on the total and average trip duration.\"\"\"\n",
    "\n",
    "    print('\\nCalculating Trip Duration...\\n')\n",
    "    start_time = time.time()"
   ]
  },
  {
   "cell_type": "code",
   "execution_count": 20,
   "id": "d469bac8",
   "metadata": {},
   "outputs": [
    {
     "name": "stdout",
     "output_type": "stream",
     "text": [
      "Total travel time in hours: 78019.94083333333\n"
     ]
    }
   ],
   "source": [
    "# TO DO: display total travel time\n",
    "\n",
    "Total_travel_time = df['Trip Duration'].sum()/3600.0\n",
    "print(\"Total travel time in hours:\", Total_travel_time)"
   ]
  },
  {
   "cell_type": "code",
   "execution_count": 21,
   "id": "b266a9f6",
   "metadata": {},
   "outputs": [
    {
     "name": "stdout",
     "output_type": "stream",
     "text": [
      "Total travel time in hours: 0.26006646944444445\n"
     ]
    }
   ],
   "source": [
    "# TO DO: display mean travel time\n",
    "\n",
    "Total_mean_time = df['Trip Duration'].mean()/3600.0\n",
    "print(\"Total travel time in hours:\",Total_mean_time)"
   ]
  },
  {
   "cell_type": "code",
   "execution_count": 22,
   "id": "de416ac3",
   "metadata": {},
   "outputs": [],
   "source": [
    "def user_stats(df):\n",
    "    \"\"\"Displays statistics on bikeshare users.\"\"\"\n",
    "\n",
    "    print('\\nCalculating User Stats...\\n')\n",
    "    start_time = time.time()"
   ]
  },
  {
   "cell_type": "code",
   "execution_count": 23,
   "id": "315019a0",
   "metadata": {},
   "outputs": [
    {
     "name": "stdout",
     "output_type": "stream",
     "text": [
      "count of user_type: Subscriber    238889\n",
      "Customer       61110\n",
      "Dependent          1\n",
      "Name: User Type, dtype: int64\n"
     ]
    }
   ],
   "source": [
    "# TO DO: Display counts of user types\n",
    "\n",
    "user_types=df['User Type'].value_counts()\n",
    "print(\"count of user_type:\", user_types)\n"
   ]
  },
  {
   "cell_type": "code",
   "execution_count": 24,
   "id": "b9347a51",
   "metadata": {},
   "outputs": [
    {
     "name": "stdout",
     "output_type": "stream",
     "text": [
      "Count of gender: Male      181190\n",
      "Female     57758\n",
      "Name: Gender, dtype: int64\n"
     ]
    }
   ],
   "source": [
    "# TO DO: Display counts of gender\n",
    "\n",
    "if city !='Washington':\n",
    "    try:\n",
    "        gender_count= df['Gender'].value_counts()\n",
    "        print(\"Count of gender:\",gender_count)\n",
    "\n",
    "    except keyError:\n",
    "    \n",
    "        print(\"No entry. Pls try again\")"
   ]
  },
  {
   "cell_type": "code",
   "execution_count": 25,
   "id": "b4b2404e",
   "metadata": {},
   "outputs": [
    {
     "name": "stdout",
     "output_type": "stream",
     "text": [
      "Most earliest year of birth: 1899.0\n",
      "Most recent year of birth: 2016.0\n",
      "Most common year of birth: 0    1989.0\n",
      "dtype: float64\n"
     ]
    }
   ],
   "source": [
    " # TO DO: Display earliest, most recent, and most common year of birth\n",
    "\n",
    "try:\n",
    "    Earliest_yearofbirth=df['Birth Year'].min()\n",
    "    print(\"Most earliest year of birth:\",Earliest_yearofbirth)\n",
    "except keyError:\n",
    "    print(\"No entry. Pls try again\")\n",
    "    \n",
    "try:\n",
    "    recent_yearofbirth=df['Birth Year'].max()\n",
    "    print(\"Most recent year of birth:\", recent_yearofbirth)\n",
    "except keyError:\n",
    "    print(\"No entry. Pls try again\")\n",
    "    \n",
    "try:\n",
    "    common_yearofbirth=df['Birth Year'].mode()\n",
    "    print(\"Most common year of birth:\",common_yearofbirth)\n",
    "except keyError:\n",
    "    print(\"No entry. Pls try again\")"
   ]
  },
  {
   "cell_type": "code",
   "execution_count": 26,
   "id": "b54239a9",
   "metadata": {},
   "outputs": [],
   "source": [
    "def main():\n",
    "    while True:\n",
    "        city, month, day = get_filters()\n",
    "        df = load_data(city, month, day)\n",
    "\n",
    "        time_stats(df)\n",
    "        station_stats(df)\n",
    "        trip_duration_stats(df)\n",
    "        user_stats(df)\n",
    "\n",
    "        restart = input('\\nWould you like to restart? Enter yes or no.\\n')\n",
    "        if restart.lower() != 'yes':\n",
    "            break"
   ]
  }
 ],
 "metadata": {
  "kernelspec": {
   "display_name": "Python 3 (ipykernel)",
   "language": "python",
   "name": "python3"
  },
  "language_info": {
   "codemirror_mode": {
    "name": "ipython",
    "version": 3
   },
   "file_extension": ".py",
   "mimetype": "text/x-python",
   "name": "python",
   "nbconvert_exporter": "python",
   "pygments_lexer": "ipython3",
   "version": "3.9.7"
  }
 },
 "nbformat": 4,
 "nbformat_minor": 5
}
